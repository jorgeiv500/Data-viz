{
  "nbformat": 4,
  "nbformat_minor": 0,
  "metadata": {
    "colab": {
      "name": "DataViz2021-2.ipynb",
      "provenance": [],
      "collapsed_sections": [],
      "authorship_tag": "ABX9TyNpUBBSDuabXNvqTwWYjWZ3",
      "include_colab_link": true
    },
    "kernelspec": {
      "name": "python3",
      "display_name": "Python 3"
    },
    "language_info": {
      "name": "python"
    }
  },
  "cells": [
    {
      "cell_type": "markdown",
      "metadata": {
        "id": "view-in-github",
        "colab_type": "text"
      },
      "source": [
        "<a href=\"https://colab.research.google.com/github/jorgeiv500/Data-viz/blob/main/DataViz2021_2.ipynb\" target=\"_parent\"><img src=\"https://colab.research.google.com/assets/colab-badge.svg\" alt=\"Open In Colab\"/></a>"
      ]
    },
    {
      "cell_type": "markdown",
      "metadata": {
        "id": "kzJ2on3e1u0y"
      },
      "source": [
        "<h1><center>(010867) DATA VISUALIZATION & DATA ANALYSIS - FCNI</center></h1>\n",
        "\n",
        "\n",
        "<h2><center>Jorge Ivan Romero</center></h2>\n",
        "<h3><center>Graficas en Colab</center></h3>\n",
        "<center><img src=\"https://upload.wikimedia.org/wikipedia/commons/thumb/c/c3/Python-logo-notext.svg/2048px-Python-logo-notext.svg.png\"     \n",
        "width=\"100\" height=\"100\" /></center>\n",
        "<h4><center>UJTL</center></h4>\n",
        "<p><center>Facultad de Ciencias Naturales e Ingenieria</center></p>\n",
        "<p><center>25/10/2021</center></p>\n",
        "\n",
        "\n",
        "\n"
      ]
    },
    {
      "cell_type": "code",
      "metadata": {
        "id": "K4BqeiND0yHr"
      },
      "source": [
        ""
      ],
      "execution_count": null,
      "outputs": []
    },
    {
      "cell_type": "markdown",
      "metadata": {
        "id": "8veoPVgc1u6v"
      },
      "source": [
        ""
      ]
    }
  ]
}