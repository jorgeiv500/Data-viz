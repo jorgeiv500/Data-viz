{
  "nbformat": 4,
  "nbformat_minor": 0,
  "metadata": {
    "colab": {
      "name": "DataViz2021-2.ipynb",
      "provenance": [],
      "authorship_tag": "ABX9TyNXMqxjmSaW+HSkgnM0pRjO",
      "include_colab_link": true
    },
    "kernelspec": {
      "name": "python3",
      "display_name": "Python 3"
    },
    "language_info": {
      "name": "python"
    }
  },
  "cells": [
    {
      "cell_type": "markdown",
      "metadata": {
        "id": "view-in-github",
        "colab_type": "text"
      },
      "source": [
        "<a href=\"https://colab.research.google.com/github/jorgeiv500/Data-viz/blob/main/DataViz2021_2.ipynb\" target=\"_parent\"><img src=\"https://colab.research.google.com/assets/colab-badge.svg\" alt=\"Open In Colab\"/></a>"
      ]
    },
    {
      "cell_type": "markdown",
      "metadata": {
        "id": "Za55Dpey3pHz"
      },
      "source": [
        "<h1><center>(010867) DATA VISUALIZATION & DATA ANALYSIS - FCNI</center></h1>\n",
        "\n",
        "\n",
        "<h2><center>Jorge Ivan Romero</center></h2>\n",
        "<h3><center>Graficas en Colab</center></h3>\n",
        "<center><img src=\"https://upload.wikimedia.org/wikipedia/commons/thumb/c/c3/Python-logo-notext.svg/2048px-Python-logo-notext.svg.png\"     \n",
        "width=\"100\" height=\"100\" /></center>\n",
        "<h4><center>UJTL</center></h4>\n",
        "<p><center>Facultad de Ciencias Naturales e Ingenieria</center></p>\n",
        "<p><center>25/10/2021</center></p>\n",
        "\n",
        "\n",
        "\n",
        "\n"
      ]
    },
    {
      "cell_type": "markdown",
      "metadata": {
        "id": "V-KGIN1M4f6_"
      },
      "source": [
        "# 1. Graficas en Colab\n",
        "\n",
        "Un uso común de los cuadernos es la visualización de datos mediante gráficos. Colaboratory facilita esto con varias herramientas de gráficos disponibles como importaciones de Python.\n"
      ]
    },
    {
      "cell_type": "markdown",
      "metadata": {
        "id": "wChj8Hpl4j6l"
      },
      "source": [
        "## 1.1.Matplotlib\n",
        "\n",
        "[Matplotlib] (http://matplotlib.org/) es el paquete de gráficos más común, consulte su [documentación] (http://matplotlib.org/api/pyplot_api.html) para obtener más detalles y sus [ejemplos] (http : //matplotlib.org/gallery.html#statistics) en busca de inspiración. "
      ]
    },
    {
      "cell_type": "markdown",
      "metadata": {
        "id": "n6k5eSLv4tjD"
      },
      "source": [
        "### 1.1.1. Graficos de lineas"
      ]
    },
    {
      "cell_type": "code",
      "metadata": {
        "id": "K4BqeiND0yHr"
      },
      "source": [
        "import matplotlib.pyplot as plt\n",
        " \n",
        "x  = [1, 2, 3, 4, 5, 6, 7, 8, 9]\n",
        "y1 = [1, 3, 5, 3, 1, 3, 5, 3, 1]\n",
        "y2 = [2, 4, 6, 4, 2, 4, 6, 4, 2]\n",
        "plt.plot(x, y1, label=\"Linea 1\")\n",
        "plt.plot(x, y2, label=\"Linea 2\")\n",
        "plt.plot()\n",
        "\n",
        "plt.xlabel(\"Eje x\")\n",
        "plt.ylabel(\"Eje y\")\n",
        "plt.title(\"Ejemplo Lineas\")\n",
        "plt.legend()\n",
        "plt.show()"
      ],
      "execution_count": null,
      "outputs": []
    },
    {
      "cell_type": "code",
      "metadata": {
        "id": "AvPoQ6dZ4y6F"
      },
      "source": [
        ""
      ],
      "execution_count": null,
      "outputs": []
    }
  ]
}